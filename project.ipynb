{
  "nbformat": 4,
  "nbformat_minor": 0,
  "metadata": {
    "kernelspec": {
      "display_name": "Python 3",
      "language": "python",
      "name": "python3"
    },
    "language_info": {
      "codemirror_mode": {
        "name": "ipython",
        "version": 3
      },
      "file_extension": ".py",
      "mimetype": "text/x-python",
      "name": "python",
      "nbconvert_exporter": "python",
      "pygments_lexer": "ipython3",
      "version": "3.8.5"
    },
    "colab": {
      "name": "project.ipynb",
      "provenance": [],
      "collapsed_sections": [],
      "toc_visible": true,
      "include_colab_link": true
    }
  },
  "cells": [
    {
      "cell_type": "markdown",
      "metadata": {
        "id": "view-in-github",
        "colab_type": "text"
      },
      "source": [
        "<a href=\"https://colab.research.google.com/github/shirleyzhang2/Autobuilder-2.0/blob/master/project.ipynb\" target=\"_parent\"><img src=\"https://colab.research.google.com/assets/colab-badge.svg\" alt=\"Open In Colab\"/></a>"
      ]
    },
    {
      "cell_type": "markdown",
      "metadata": {
        "id": "qU8mpzjaWz8_"
      },
      "source": [
        "# CIV1499 - Introduction to Data Science\n",
        "## Project - Toronto Bike Share\n",
        "\n",
        "Insert description of project here"
      ]
    },
    {
      "cell_type": "code",
      "metadata": {
        "colab": {
          "base_uri": "https://localhost:8080/"
        },
        "id": "2DX4WfWOZ_FK",
        "outputId": "450b6d43-351f-4c1f-b669-7bd5cac08b9c"
      },
      "source": [
        "#COLAB ONLY\r\n",
        "from google.colab import drive\r\n",
        "drive.mount('/content/drive')"
      ],
      "execution_count": 1,
      "outputs": [
        {
          "output_type": "stream",
          "text": [
            "Mounted at /content/drive\n"
          ],
          "name": "stdout"
        }
      ]
    },
    {
      "cell_type": "markdown",
      "metadata": {
        "id": "m-WxPhY0Wz9K"
      },
      "source": [
        "## Setup Notebook"
      ]
    },
    {
      "cell_type": "code",
      "metadata": {
        "id": "H03v8i_zWz9K"
      },
      "source": [
        "# Import 3rd party libraries\n",
        "import os\n",
        "import pandas as pd\n",
        "import seaborn as sns\n",
        "import matplotlib.pylab as plt\n",
        "\n",
        "# Configure Notebook\n",
        "%matplotlib inline\n",
        "plt.style.use('fivethirtyeight')\n",
        "sns.set_context(\"notebook\")\n",
        "import warnings\n",
        "warnings.filterwarnings('ignore')"
      ],
      "execution_count": 2,
      "outputs": []
    },
    {
      "cell_type": "markdown",
      "metadata": {
        "id": "0xrlM0H5Wz9L"
      },
      "source": [
        "# 1. Weather Data"
      ]
    },
    {
      "cell_type": "markdown",
      "metadata": {
        "id": "_M5hlxqugq0Z"
      },
      "source": [
        "The City of Toronto provided a large number of csv files containing historical weather in Toronto. The weather station is located at  43.63 latitudes and -79.4 longitude. Here are the names for some of the files."
      ]
    },
    {
      "cell_type": "code",
      "metadata": {
        "id": "G96N0kYHR_qu"
      },
      "source": [
        "# # JUPYTER\r\n",
        "# weather_filenames = [filename for filename in os.listdir() if 'climate' in filename]\r\n",
        "# print(weather_filenames[0:5])"
      ],
      "execution_count": 3,
      "outputs": []
    },
    {
      "cell_type": "code",
      "metadata": {
        "colab": {
          "base_uri": "https://localhost:8080/"
        },
        "id": "rQqCMxRUWz9L",
        "outputId": "a9caec0c-9160-4f49-948f-b4dd92db93a5"
      },
      "source": [
        "# COLAB\n",
        "# SET THE PATH HERE TO THE LOCATION OF YOUR CSV FILES\n",
        "path = r'/content/drive/MyDrive/CIV1498_project/'\n",
        "weather_filenames = [filename for filename in os.listdir(path) if 'climate' in filename]\n",
        "print(weather_filenames[0:5])"
      ],
      "execution_count": 4,
      "outputs": [
        {
          "output_type": "stream",
          "text": [
            "['en_climate_hourly_ON_6158359_06-2018_P1H.csv', 'en_climate_hourly_ON_6158359_09-2018_P1H.csv', 'en_climate_hourly_ON_6158359_07-2017_P1H.csv', 'en_climate_hourly_ON_6158359_01-2018_P1H.csv', 'en_climate_hourly_ON_6158359_03-2018_P1H.csv']\n"
          ],
          "name": "stdout"
        }
      ]
    },
    {
      "cell_type": "markdown",
      "metadata": {
        "id": "ypD09dePWz9M"
      },
      "source": [
        "# 2. Bike Share Trip Data"
      ]
    },
    {
      "cell_type": "markdown",
      "metadata": {
        "id": "JGJEj5zif_o2"
      },
      "source": [
        "Bike Share Toronto has provided a dataset of historical ridership data in Toronto from 2017, 2018, 2019, and 2020. We will organize this dataset into a dictionary of dataframes. Note: Displaying column headers for the 2019 and 2020 data reveals that there are 2 spaces in `'Trip  Duration'`!"
      ]
    },
    {
      "cell_type": "code",
      "metadata": {
        "id": "ufDgVgquSLSH"
      },
      "source": [
        "# # JUPYTER\r\n",
        "# # Create a list of file names for bike share trips data\r\n",
        "# trips_filenames = [filename for filename in os.listdir() if 'bike_share' in filename]\r\n",
        "\r\n",
        "# # Create a dictionary where key:value pairs correspond to \r\n",
        "# # the file name and DataFrame respectively\r\n",
        "# trips_data = {filename: pd.read_csv(filename) for filename in trips_filenames}\r\n",
        "\r\n",
        "# # Now lets print out the column names for the first month of each year\r\n",
        "# print('2017\\n{}\\n'.format(trips_data['bike_share_2017-1.csv'].columns.tolist()))\r\n",
        "# print('2018\\n{}\\n'.format(trips_data['bike_share_2018-1.csv'].columns.tolist()))\r\n",
        "# print('2019\\n{}\\n'.format(trips_data['bike_share_2019-1.csv'].columns.tolist()))\r\n",
        "# print('2020\\n{}\\n'.format(trips_data['bike_share_2020-1.csv'].columns.tolist()))"
      ],
      "execution_count": 5,
      "outputs": []
    },
    {
      "cell_type": "code",
      "metadata": {
        "colab": {
          "base_uri": "https://localhost:8080/"
        },
        "id": "LXKaXCluWz9N",
        "outputId": "f085f8f4-e971-4599-a8df-f3cecfe99293"
      },
      "source": [
        "# COLAB\n",
        "# Create a list of file names for bike share trips data\n",
        "trips_filenames = [filename for filename in os.listdir(path) if 'bike_share' in filename]\n",
        "\n",
        "# Create a dictionary where key:value pairs correspond to \n",
        "# the file name and DataFrame respectively\n",
        "trips_data = {filename: pd.read_csv(path+filename) for filename in trips_filenames}\n",
        "\n",
        "# Now lets print out the column names for the first month of each year\n",
        "print('2017\\n{}\\n'.format(trips_data['bike_share_2017-1.csv'].columns.tolist()))\n",
        "print('2018\\n{}\\n'.format(trips_data['bike_share_2018-1.csv'].columns.tolist()))\n",
        "print('2019\\n{}\\n'.format(trips_data['bike_share_2019-1.csv'].columns.tolist()))\n",
        "print('2020\\n{}\\n'.format(trips_data['bike_share_2020-1.csv'].columns.tolist()))"
      ],
      "execution_count": 6,
      "outputs": [
        {
          "output_type": "stream",
          "text": [
            "2017\n",
            "['trip_id', 'trip_start_time', 'trip_stop_time', 'trip_duration_seconds', 'from_station_id', 'from_station_name', 'to_station_id', 'to_station_name', 'user_type']\n",
            "\n",
            "2018\n",
            "['trip_id', 'trip_duration_seconds', 'from_station_id', 'trip_start_time', 'from_station_name', 'trip_stop_time', 'to_station_id', 'to_station_name', 'user_type']\n",
            "\n",
            "2019\n",
            "['Trip Id', 'Subscription Id', 'Trip  Duration', 'Start Station Id', 'Start Time', 'Start Station Name', 'End Station Id', 'End Time', 'End Station Name', 'Bike Id', 'User Type']\n",
            "\n",
            "2020\n",
            "['Trip Id', 'Subscription Id', 'Trip  Duration', 'Start Station Id', 'Start Time', 'Start Station Name', 'End Station Id', 'End Time', 'End Station Name', 'Bike Id', 'User Type']\n",
            "\n"
          ],
          "name": "stdout"
        }
      ]
    },
    {
      "cell_type": "markdown",
      "metadata": {
        "id": "myTmszJDWz9O"
      },
      "source": [
        "# 3. Station Data"
      ]
    },
    {
      "cell_type": "markdown",
      "metadata": {
        "id": "A7ad8hkFfj00"
      },
      "source": [
        "Station data from the Bike Share API endpoint will also be converted into a dataframe."
      ]
    },
    {
      "cell_type": "code",
      "metadata": {
        "id": "N5pOAq3LSXAN"
      },
      "source": [
        "# # JUPYTER\r\n",
        "# stations = pd.read_csv('bikeshare_stations.csv')\r\n",
        "# stations.head()"
      ],
      "execution_count": 7,
      "outputs": []
    },
    {
      "cell_type": "code",
      "metadata": {
        "id": "muLwYr9RWz9O",
        "colab": {
          "base_uri": "https://localhost:8080/",
          "height": 204
        },
        "outputId": "eb38287b-f13f-43e4-954a-075550b5d77b"
      },
      "source": [
        "# COLAB\n",
        "stations = pd.read_csv(path+'bikeshare_stations.csv')\n",
        "stations.head()"
      ],
      "execution_count": 8,
      "outputs": [
        {
          "output_type": "execute_result",
          "data": {
            "text/html": [
              "<div>\n",
              "<style scoped>\n",
              "    .dataframe tbody tr th:only-of-type {\n",
              "        vertical-align: middle;\n",
              "    }\n",
              "\n",
              "    .dataframe tbody tr th {\n",
              "        vertical-align: top;\n",
              "    }\n",
              "\n",
              "    .dataframe thead th {\n",
              "        text-align: right;\n",
              "    }\n",
              "</style>\n",
              "<table border=\"1\" class=\"dataframe\">\n",
              "  <thead>\n",
              "    <tr style=\"text-align: right;\">\n",
              "      <th></th>\n",
              "      <th>Station Id</th>\n",
              "      <th>Station Name</th>\n",
              "      <th>lat</th>\n",
              "      <th>lon</th>\n",
              "      <th>capacity</th>\n",
              "    </tr>\n",
              "  </thead>\n",
              "  <tbody>\n",
              "    <tr>\n",
              "      <th>0</th>\n",
              "      <td>7000</td>\n",
              "      <td>Fort York  Blvd / Capreol Ct</td>\n",
              "      <td>43.639832</td>\n",
              "      <td>-79.395954</td>\n",
              "      <td>35</td>\n",
              "    </tr>\n",
              "    <tr>\n",
              "      <th>1</th>\n",
              "      <td>7001</td>\n",
              "      <td>Lower Jarvis St / The Esplanade</td>\n",
              "      <td>43.647830</td>\n",
              "      <td>-79.370698</td>\n",
              "      <td>15</td>\n",
              "    </tr>\n",
              "    <tr>\n",
              "      <th>2</th>\n",
              "      <td>7002</td>\n",
              "      <td>St. George St / Bloor St W</td>\n",
              "      <td>43.667333</td>\n",
              "      <td>-79.399429</td>\n",
              "      <td>19</td>\n",
              "    </tr>\n",
              "    <tr>\n",
              "      <th>3</th>\n",
              "      <td>7003</td>\n",
              "      <td>Madison Ave / Bloor St W</td>\n",
              "      <td>43.667158</td>\n",
              "      <td>-79.402761</td>\n",
              "      <td>15</td>\n",
              "    </tr>\n",
              "    <tr>\n",
              "      <th>4</th>\n",
              "      <td>7004</td>\n",
              "      <td>University Ave / Elm St</td>\n",
              "      <td>43.656518</td>\n",
              "      <td>-79.389099</td>\n",
              "      <td>11</td>\n",
              "    </tr>\n",
              "  </tbody>\n",
              "</table>\n",
              "</div>"
            ],
            "text/plain": [
              "   Station Id                     Station Name        lat        lon  capacity\n",
              "0        7000     Fort York  Blvd / Capreol Ct  43.639832 -79.395954        35\n",
              "1        7001  Lower Jarvis St / The Esplanade  43.647830 -79.370698        15\n",
              "2        7002       St. George St / Bloor St W  43.667333 -79.399429        19\n",
              "3        7003         Madison Ave / Bloor St W  43.667158 -79.402761        15\n",
              "4        7004          University Ave / Elm St  43.656518 -79.389099        11"
            ]
          },
          "metadata": {
            "tags": []
          },
          "execution_count": 8
        }
      ]
    },
    {
      "cell_type": "markdown",
      "metadata": {
        "id": "D8f1LLahWz9O"
      },
      "source": [
        "# 4. Data Cleaning & Wrangling\n",
        "The raw data from the City of Toronto contains weather, bikeshare trips, and station information from 2017 to 2020. Some inconsistencies that can be observed across the files include station names, outliers, missing data, DateTime formats, and timezones. The first step is to clean and merge this data into a common DataFrame. Any issues with the datasets will be addressed and documented. The final output will be a DataFrame including bike share and weather data from 2017 to 2020 with each row corresponding to a trip. \n",
        "\n",
        "## 4a. Unify column headers"
      ]
    },
    {
      "cell_type": "markdown",
      "metadata": {
        "id": "geuX5z9lWz9P"
      },
      "source": [
        "The column names for the 2017-2018 data are different from that of the 2019-2020 data. For example, trip identifiers are represented as `'trip_id'` in 2017-2018 and as `'Trip Id'` in 2019-2020. The order of the columns are also different. In addition, `'Subscription Id'` and `'Bike Id'` are not in the 2017-2018 datasets. Column headers from 2017-2018 will be modified to match the most recent data, and two empty columns will be created as placeholders for the subscription and bike identifiers."
      ]
    },
    {
      "cell_type": "code",
      "metadata": {
        "id": "A7Fl-pSNWz9Q",
        "colab": {
          "base_uri": "https://localhost:8080/",
          "height": 306
        },
        "outputId": "8f640f22-0f07-4b3f-914c-7689c6791bd7"
      },
      "source": [
        "import numpy as np\n",
        "\n",
        "new_2017_headers = ['Trip Id', 'Start Time', 'End Time', 'Trip  Duration', 'Start Station Id', 'Start Station Name', 'End Station Id', 'End Station Name', 'User Type']\n",
        "new_2018_headers = ['Trip Id', 'Trip  Duration', 'Start Station Id', 'Start Time', 'Start Station Name', 'End Time', 'End Station Id', 'End Station Name', 'User Type']\n",
        "\n",
        "for filename in trips_data:\n",
        "    if '2017' in filename:\n",
        "        # Modify 2017 headers\n",
        "        trips_data[filename].columns = new_2017_headers\n",
        "        # Add subscription and bike Id columns filled with NaN\n",
        "        trips_data[filename]['Subscription Id'] = np.nan\n",
        "        trips_data[filename]['Bike Id'] = np.nan \n",
        "        # Rearrange 2017 headers to match 2019-1020 data\n",
        "        trips_data[filename] = trips_data[filename][['Trip Id', 'Subscription Id', 'Trip  Duration', 'Start Station Id', 'Start Time', 'Start Station Name', 'End Station Id', 'End Time', 'End Station Name', 'Bike Id', 'User Type']]\n",
        "\n",
        "    elif '2018' in filename:\n",
        "        # Modify 2018 headers\n",
        "        trips_data[filename].columns = new_2018_headers\n",
        "        # Add subscription and bike Id columns filled with NaN\n",
        "        trips_data[filename]['Subscription Id'] = np.nan\n",
        "        trips_data[filename]['Bike Id'] = np.nan \n",
        "        # Rearrange 2018 headers to match 2019-1020 data \n",
        "        trips_data[filename] = trips_data[filename][['Trip Id', 'Subscription Id', 'Trip  Duration', 'Start Station Id', 'Start Time', 'Start Station Name', 'End Station Id', 'End Time', 'End Station Name', 'Bike Id', 'User Type']]\n",
        "\n",
        "# # View a sample DataFrame\n",
        "trips_data['bike_share_2017-1.csv'].head()"
      ],
      "execution_count": 9,
      "outputs": [
        {
          "output_type": "execute_result",
          "data": {
            "text/html": [
              "<div>\n",
              "<style scoped>\n",
              "    .dataframe tbody tr th:only-of-type {\n",
              "        vertical-align: middle;\n",
              "    }\n",
              "\n",
              "    .dataframe tbody tr th {\n",
              "        vertical-align: top;\n",
              "    }\n",
              "\n",
              "    .dataframe thead th {\n",
              "        text-align: right;\n",
              "    }\n",
              "</style>\n",
              "<table border=\"1\" class=\"dataframe\">\n",
              "  <thead>\n",
              "    <tr style=\"text-align: right;\">\n",
              "      <th></th>\n",
              "      <th>Trip Id</th>\n",
              "      <th>Subscription Id</th>\n",
              "      <th>Trip  Duration</th>\n",
              "      <th>Start Station Id</th>\n",
              "      <th>Start Time</th>\n",
              "      <th>Start Station Name</th>\n",
              "      <th>End Station Id</th>\n",
              "      <th>End Time</th>\n",
              "      <th>End Station Name</th>\n",
              "      <th>Bike Id</th>\n",
              "      <th>User Type</th>\n",
              "    </tr>\n",
              "  </thead>\n",
              "  <tbody>\n",
              "    <tr>\n",
              "      <th>0</th>\n",
              "      <td>712441</td>\n",
              "      <td>NaN</td>\n",
              "      <td>274</td>\n",
              "      <td>7006.0</td>\n",
              "      <td>2017-01-01 05:03 (UTC)</td>\n",
              "      <td>Bay St / College St (East Side)</td>\n",
              "      <td>7021.0</td>\n",
              "      <td>2017-01-01 05:08 (UTC)</td>\n",
              "      <td>Bay St / Albert St</td>\n",
              "      <td>NaN</td>\n",
              "      <td>Member</td>\n",
              "    </tr>\n",
              "    <tr>\n",
              "      <th>1</th>\n",
              "      <td>712442</td>\n",
              "      <td>NaN</td>\n",
              "      <td>538</td>\n",
              "      <td>7046.0</td>\n",
              "      <td>2017-01-01 05:03 (UTC)</td>\n",
              "      <td>Niagara St / Richmond St W</td>\n",
              "      <td>7147.0</td>\n",
              "      <td>2017-01-01 05:12 (UTC)</td>\n",
              "      <td>King St W / Fraser Ave</td>\n",
              "      <td>NaN</td>\n",
              "      <td>Member</td>\n",
              "    </tr>\n",
              "    <tr>\n",
              "      <th>2</th>\n",
              "      <td>712443</td>\n",
              "      <td>NaN</td>\n",
              "      <td>992</td>\n",
              "      <td>7048.0</td>\n",
              "      <td>2017-01-01 05:05 (UTC)</td>\n",
              "      <td>Front St / Yonge St (Hockey Hall of Fame)</td>\n",
              "      <td>7089.0</td>\n",
              "      <td>2017-01-01 05:22 (UTC)</td>\n",
              "      <td>Church St  / Wood St</td>\n",
              "      <td>NaN</td>\n",
              "      <td>Member</td>\n",
              "    </tr>\n",
              "    <tr>\n",
              "      <th>3</th>\n",
              "      <td>712444</td>\n",
              "      <td>NaN</td>\n",
              "      <td>1005</td>\n",
              "      <td>7177.0</td>\n",
              "      <td>2017-01-01 05:09 (UTC)</td>\n",
              "      <td>East Liberty St / Pirandello St</td>\n",
              "      <td>7202.0</td>\n",
              "      <td>2017-01-01 05:26 (UTC)</td>\n",
              "      <td>Queen St W / York St (City Hall)</td>\n",
              "      <td>NaN</td>\n",
              "      <td>Member</td>\n",
              "    </tr>\n",
              "    <tr>\n",
              "      <th>4</th>\n",
              "      <td>712445</td>\n",
              "      <td>NaN</td>\n",
              "      <td>645</td>\n",
              "      <td>7203.0</td>\n",
              "      <td>2017-01-01 05:14 (UTC)</td>\n",
              "      <td>Bathurst St / Queens Quay W</td>\n",
              "      <td>7010.0</td>\n",
              "      <td>2017-01-01 05:25 (UTC)</td>\n",
              "      <td>King St W / Spadina Ave</td>\n",
              "      <td>NaN</td>\n",
              "      <td>Member</td>\n",
              "    </tr>\n",
              "  </tbody>\n",
              "</table>\n",
              "</div>"
            ],
            "text/plain": [
              "   Trip Id  Subscription Id  ...  Bike Id  User Type\n",
              "0   712441              NaN  ...      NaN     Member\n",
              "1   712442              NaN  ...      NaN     Member\n",
              "2   712443              NaN  ...      NaN     Member\n",
              "3   712444              NaN  ...      NaN     Member\n",
              "4   712445              NaN  ...      NaN     Member\n",
              "\n",
              "[5 rows x 11 columns]"
            ]
          },
          "metadata": {
            "tags": []
          },
          "execution_count": 9
        }
      ]
    },
    {
      "cell_type": "markdown",
      "metadata": {
        "id": "AEqMNlkbWz9Q"
      },
      "source": [
        "## 4b. Unify Datetimes"
      ]
    },
    {
      "cell_type": "markdown",
      "metadata": {
        "id": "WACZxvHOWz9Q"
      },
      "source": [
        "It was also observed that the 2017 and 2018 datasets display `'Start Time'` and `'End Time'` in UTC and in the format of Y/m/d H:M, while the 2019 and 2020 datasets display them in Eastern Standard Time (EST) in the format of d/m/Y H:M:S. For consistency, all `'Start Time'` and `'End Time'` will be converted to datetime objects and localized to EST. Note that by setting `error='coerce'`, invalid parsing will be set as NaT instead of raising an exception."
      ]
    },
    {
      "cell_type": "code",
      "metadata": {
        "id": "_RJxsG0TWz9R",
        "colab": {
          "base_uri": "https://localhost:8080/",
          "height": 306
        },
        "outputId": "1f3d9080-4955-419a-856d-d8ade665d44a"
      },
      "source": [
        "from datetime import timedelta\n",
        "\n",
        "for filename in trips_data:\n",
        "   if '2017' in filename or '2018' in filename:\n",
        "    # strip (UTC) or (EST) at end of string before performing datetime maniputations\n",
        "    trips_data[filename]['Start Time'] = pd.to_datetime(trips_data[filename]['Start Time']\n",
        "                                                         .astype('str').str.rstrip(' (UTC)'), format = '%Y/%m/%d %H:%M',\\\n",
        "                                                            errors='coerce').dt.tz_localize('UTC').dt.tz_convert('EST')\n",
        "    trips_data[filename]['End Time'] = pd.to_datetime(trips_data[filename]['End Time']\n",
        "                                                         .astype('str').str.rstrip(' (UTC)'), format = '%Y/%m/%d %H:%M',\\\n",
        "                                                            errors='coerce').dt.tz_localize('UTC').dt.tz_convert('EST')\n",
        "   elif '2019' in filename or '2020' in filename:\n",
        "    trips_data[filename]['Start Time'] = pd.to_datetime(trips_data[filename]['Start Time']\n",
        "                                                         .astype('str').str.rstrip(' (EST)'), format = '%d/%m/%Y %H:%M:%S',\\\n",
        "                                                            errors='coerce').dt.tz_localize('EST')\n",
        "    trips_data[filename]['End Time'] = pd.to_datetime(trips_data[filename]['End Time']\n",
        "                                                         .astype('str').str.rstrip(' (EST)'), format = '%d/%m/%Y %H:%M:%S',\\\n",
        "                                                            errors='coerce').dt.tz_localize('EST')\n",
        "# View DataFrame\n",
        "trips_data['bike_share_2017-1.csv'].head()"
      ],
      "execution_count": 10,
      "outputs": [
        {
          "output_type": "execute_result",
          "data": {
            "text/html": [
              "<div>\n",
              "<style scoped>\n",
              "    .dataframe tbody tr th:only-of-type {\n",
              "        vertical-align: middle;\n",
              "    }\n",
              "\n",
              "    .dataframe tbody tr th {\n",
              "        vertical-align: top;\n",
              "    }\n",
              "\n",
              "    .dataframe thead th {\n",
              "        text-align: right;\n",
              "    }\n",
              "</style>\n",
              "<table border=\"1\" class=\"dataframe\">\n",
              "  <thead>\n",
              "    <tr style=\"text-align: right;\">\n",
              "      <th></th>\n",
              "      <th>Trip Id</th>\n",
              "      <th>Subscription Id</th>\n",
              "      <th>Trip  Duration</th>\n",
              "      <th>Start Station Id</th>\n",
              "      <th>Start Time</th>\n",
              "      <th>Start Station Name</th>\n",
              "      <th>End Station Id</th>\n",
              "      <th>End Time</th>\n",
              "      <th>End Station Name</th>\n",
              "      <th>Bike Id</th>\n",
              "      <th>User Type</th>\n",
              "    </tr>\n",
              "  </thead>\n",
              "  <tbody>\n",
              "    <tr>\n",
              "      <th>0</th>\n",
              "      <td>712441</td>\n",
              "      <td>NaN</td>\n",
              "      <td>274</td>\n",
              "      <td>7006.0</td>\n",
              "      <td>2017-01-01 00:03:00-05:00</td>\n",
              "      <td>Bay St / College St (East Side)</td>\n",
              "      <td>7021.0</td>\n",
              "      <td>2017-01-01 00:08:00-05:00</td>\n",
              "      <td>Bay St / Albert St</td>\n",
              "      <td>NaN</td>\n",
              "      <td>Member</td>\n",
              "    </tr>\n",
              "    <tr>\n",
              "      <th>1</th>\n",
              "      <td>712442</td>\n",
              "      <td>NaN</td>\n",
              "      <td>538</td>\n",
              "      <td>7046.0</td>\n",
              "      <td>2017-01-01 00:03:00-05:00</td>\n",
              "      <td>Niagara St / Richmond St W</td>\n",
              "      <td>7147.0</td>\n",
              "      <td>2017-01-01 00:12:00-05:00</td>\n",
              "      <td>King St W / Fraser Ave</td>\n",
              "      <td>NaN</td>\n",
              "      <td>Member</td>\n",
              "    </tr>\n",
              "    <tr>\n",
              "      <th>2</th>\n",
              "      <td>712443</td>\n",
              "      <td>NaN</td>\n",
              "      <td>992</td>\n",
              "      <td>7048.0</td>\n",
              "      <td>2017-01-01 00:05:00-05:00</td>\n",
              "      <td>Front St / Yonge St (Hockey Hall of Fame)</td>\n",
              "      <td>7089.0</td>\n",
              "      <td>2017-01-01 00:22:00-05:00</td>\n",
              "      <td>Church St  / Wood St</td>\n",
              "      <td>NaN</td>\n",
              "      <td>Member</td>\n",
              "    </tr>\n",
              "    <tr>\n",
              "      <th>3</th>\n",
              "      <td>712444</td>\n",
              "      <td>NaN</td>\n",
              "      <td>1005</td>\n",
              "      <td>7177.0</td>\n",
              "      <td>2017-01-01 00:09:00-05:00</td>\n",
              "      <td>East Liberty St / Pirandello St</td>\n",
              "      <td>7202.0</td>\n",
              "      <td>2017-01-01 00:26:00-05:00</td>\n",
              "      <td>Queen St W / York St (City Hall)</td>\n",
              "      <td>NaN</td>\n",
              "      <td>Member</td>\n",
              "    </tr>\n",
              "    <tr>\n",
              "      <th>4</th>\n",
              "      <td>712445</td>\n",
              "      <td>NaN</td>\n",
              "      <td>645</td>\n",
              "      <td>7203.0</td>\n",
              "      <td>2017-01-01 00:14:00-05:00</td>\n",
              "      <td>Bathurst St / Queens Quay W</td>\n",
              "      <td>7010.0</td>\n",
              "      <td>2017-01-01 00:25:00-05:00</td>\n",
              "      <td>King St W / Spadina Ave</td>\n",
              "      <td>NaN</td>\n",
              "      <td>Member</td>\n",
              "    </tr>\n",
              "  </tbody>\n",
              "</table>\n",
              "</div>"
            ],
            "text/plain": [
              "   Trip Id  Subscription Id  ...  Bike Id  User Type\n",
              "0   712441              NaN  ...      NaN     Member\n",
              "1   712442              NaN  ...      NaN     Member\n",
              "2   712443              NaN  ...      NaN     Member\n",
              "3   712444              NaN  ...      NaN     Member\n",
              "4   712445              NaN  ...      NaN     Member\n",
              "\n",
              "[5 rows x 11 columns]"
            ]
          },
          "metadata": {
            "tags": []
          },
          "execution_count": 10
        }
      ]
    },
    {
      "cell_type": "markdown",
      "metadata": {
        "id": "CRV8pE0eWz9S"
      },
      "source": [
        "## 4c. Combine trip dataframes"
      ]
    },
    {
      "cell_type": "markdown",
      "metadata": {
        "id": "KJsqYxVQWz9S"
      },
      "source": [
        "Now that the column headers and datetimes are unified, we can concatenate the bike share trip dataframes to create a single dataframe representing bike share trip data from 2017 to 2020."
      ]
    },
    {
      "cell_type": "code",
      "metadata": {
        "scrolled": true,
        "id": "P0ci3O2lWz9S",
        "colab": {
          "base_uri": "https://localhost:8080/",
          "height": 306
        },
        "outputId": "b52b8b28-3a6b-4440-89e6-327fbce5c7e1"
      },
      "source": [
        "all_trips = pd.concat(trips_data.values(), ignore_index=True).sort_values(by=['Trip Id']).reset_index(drop=True)\n",
        "all_trips.head()"
      ],
      "execution_count": 11,
      "outputs": [
        {
          "output_type": "execute_result",
          "data": {
            "text/html": [
              "<div>\n",
              "<style scoped>\n",
              "    .dataframe tbody tr th:only-of-type {\n",
              "        vertical-align: middle;\n",
              "    }\n",
              "\n",
              "    .dataframe tbody tr th {\n",
              "        vertical-align: top;\n",
              "    }\n",
              "\n",
              "    .dataframe thead th {\n",
              "        text-align: right;\n",
              "    }\n",
              "</style>\n",
              "<table border=\"1\" class=\"dataframe\">\n",
              "  <thead>\n",
              "    <tr style=\"text-align: right;\">\n",
              "      <th></th>\n",
              "      <th>Trip Id</th>\n",
              "      <th>Subscription Id</th>\n",
              "      <th>Trip  Duration</th>\n",
              "      <th>Start Station Id</th>\n",
              "      <th>Start Time</th>\n",
              "      <th>Start Station Name</th>\n",
              "      <th>End Station Id</th>\n",
              "      <th>End Time</th>\n",
              "      <th>End Station Name</th>\n",
              "      <th>Bike Id</th>\n",
              "      <th>User Type</th>\n",
              "    </tr>\n",
              "  </thead>\n",
              "  <tbody>\n",
              "    <tr>\n",
              "      <th>0</th>\n",
              "      <td>712382</td>\n",
              "      <td>NaN</td>\n",
              "      <td>223</td>\n",
              "      <td>7051.0</td>\n",
              "      <td>2016-12-31 20:00:00-05:00</td>\n",
              "      <td>Wellesley St E / Yonge St Green P</td>\n",
              "      <td>7089.0</td>\n",
              "      <td>2016-12-31 20:03:00-05:00</td>\n",
              "      <td>Church St  / Wood St</td>\n",
              "      <td>NaN</td>\n",
              "      <td>Member</td>\n",
              "    </tr>\n",
              "    <tr>\n",
              "      <th>1</th>\n",
              "      <td>712383</td>\n",
              "      <td>NaN</td>\n",
              "      <td>279</td>\n",
              "      <td>7143.0</td>\n",
              "      <td>2016-12-31 20:00:00-05:00</td>\n",
              "      <td>Kendal Ave / Bernard Ave</td>\n",
              "      <td>7154.0</td>\n",
              "      <td>2016-12-31 20:05:00-05:00</td>\n",
              "      <td>Bathurst Subway Station</td>\n",
              "      <td>NaN</td>\n",
              "      <td>Member</td>\n",
              "    </tr>\n",
              "    <tr>\n",
              "      <th>2</th>\n",
              "      <td>712384</td>\n",
              "      <td>NaN</td>\n",
              "      <td>1394</td>\n",
              "      <td>7113.0</td>\n",
              "      <td>2016-12-31 20:05:00-05:00</td>\n",
              "      <td>Parliament St / Aberdeen Ave</td>\n",
              "      <td>7199.0</td>\n",
              "      <td>2016-12-31 20:29:00-05:00</td>\n",
              "      <td>College St W / Markham St</td>\n",
              "      <td>NaN</td>\n",
              "      <td>Member</td>\n",
              "    </tr>\n",
              "    <tr>\n",
              "      <th>3</th>\n",
              "      <td>712385</td>\n",
              "      <td>NaN</td>\n",
              "      <td>826</td>\n",
              "      <td>7077.0</td>\n",
              "      <td>2016-12-31 20:07:00-05:00</td>\n",
              "      <td>College Park South</td>\n",
              "      <td>7010.0</td>\n",
              "      <td>2016-12-31 20:21:00-05:00</td>\n",
              "      <td>King St W / Spadina Ave</td>\n",
              "      <td>NaN</td>\n",
              "      <td>Member</td>\n",
              "    </tr>\n",
              "    <tr>\n",
              "      <th>4</th>\n",
              "      <td>712386</td>\n",
              "      <td>NaN</td>\n",
              "      <td>279</td>\n",
              "      <td>7079.0</td>\n",
              "      <td>2016-12-31 20:08:00-05:00</td>\n",
              "      <td>McGill St / Church St</td>\n",
              "      <td>7047.0</td>\n",
              "      <td>2016-12-31 20:12:00-05:00</td>\n",
              "      <td>University Ave / Gerrard St W</td>\n",
              "      <td>NaN</td>\n",
              "      <td>Member</td>\n",
              "    </tr>\n",
              "  </tbody>\n",
              "</table>\n",
              "</div>"
            ],
            "text/plain": [
              "   Trip Id  Subscription Id  ...  Bike Id  User Type\n",
              "0   712382              NaN  ...      NaN     Member\n",
              "1   712383              NaN  ...      NaN     Member\n",
              "2   712384              NaN  ...      NaN     Member\n",
              "3   712385              NaN  ...      NaN     Member\n",
              "4   712386              NaN  ...      NaN     Member\n",
              "\n",
              "[5 rows x 11 columns]"
            ]
          },
          "metadata": {
            "tags": []
          },
          "execution_count": 11
        }
      ]
    },
    {
      "cell_type": "markdown",
      "metadata": {
        "id": "x9W3dRy6n6gg"
      },
      "source": [
        "After organizing the trips in the `'all_trips'` dataframe by ascending trip Ids, we noticed that some trips actually occured at the end of 2016. Further investigation reveals that 'bike_share_2017-12.csv' contains some datapoints that are in 2017 according to UTC but in 2016 according to EST. Since we are primarily interested in data from 2017 to 2020, we will remove the 2016 data."
      ]
    },
    {
      "cell_type": "code",
      "metadata": {
        "colab": {
          "base_uri": "https://localhost:8080/",
          "height": 306
        },
        "id": "rzMdBjzjoMu8",
        "outputId": "990f71bd-576c-4b71-ccc4-e2cf99ffe360"
      },
      "source": [
        "all_trips = all_trips[~(all_trips['Start Time'] < '2017-01-01')]\r\n",
        "\r\n",
        "# View DataFrame\r\n",
        "all_trips.head()"
      ],
      "execution_count": 12,
      "outputs": [
        {
          "output_type": "execute_result",
          "data": {
            "text/html": [
              "<div>\n",
              "<style scoped>\n",
              "    .dataframe tbody tr th:only-of-type {\n",
              "        vertical-align: middle;\n",
              "    }\n",
              "\n",
              "    .dataframe tbody tr th {\n",
              "        vertical-align: top;\n",
              "    }\n",
              "\n",
              "    .dataframe thead th {\n",
              "        text-align: right;\n",
              "    }\n",
              "</style>\n",
              "<table border=\"1\" class=\"dataframe\">\n",
              "  <thead>\n",
              "    <tr style=\"text-align: right;\">\n",
              "      <th></th>\n",
              "      <th>Trip Id</th>\n",
              "      <th>Subscription Id</th>\n",
              "      <th>Trip  Duration</th>\n",
              "      <th>Start Station Id</th>\n",
              "      <th>Start Time</th>\n",
              "      <th>Start Station Name</th>\n",
              "      <th>End Station Id</th>\n",
              "      <th>End Time</th>\n",
              "      <th>End Station Name</th>\n",
              "      <th>Bike Id</th>\n",
              "      <th>User Type</th>\n",
              "    </tr>\n",
              "  </thead>\n",
              "  <tbody>\n",
              "    <tr>\n",
              "      <th>58</th>\n",
              "      <td>712441</td>\n",
              "      <td>NaN</td>\n",
              "      <td>274</td>\n",
              "      <td>7006.0</td>\n",
              "      <td>2017-01-01 00:03:00-05:00</td>\n",
              "      <td>Bay St / College St (East Side)</td>\n",
              "      <td>7021.0</td>\n",
              "      <td>2017-01-01 00:08:00-05:00</td>\n",
              "      <td>Bay St / Albert St</td>\n",
              "      <td>NaN</td>\n",
              "      <td>Member</td>\n",
              "    </tr>\n",
              "    <tr>\n",
              "      <th>59</th>\n",
              "      <td>712442</td>\n",
              "      <td>NaN</td>\n",
              "      <td>538</td>\n",
              "      <td>7046.0</td>\n",
              "      <td>2017-01-01 00:03:00-05:00</td>\n",
              "      <td>Niagara St / Richmond St W</td>\n",
              "      <td>7147.0</td>\n",
              "      <td>2017-01-01 00:12:00-05:00</td>\n",
              "      <td>King St W / Fraser Ave</td>\n",
              "      <td>NaN</td>\n",
              "      <td>Member</td>\n",
              "    </tr>\n",
              "    <tr>\n",
              "      <th>60</th>\n",
              "      <td>712443</td>\n",
              "      <td>NaN</td>\n",
              "      <td>992</td>\n",
              "      <td>7048.0</td>\n",
              "      <td>2017-01-01 00:05:00-05:00</td>\n",
              "      <td>Front St / Yonge St (Hockey Hall of Fame)</td>\n",
              "      <td>7089.0</td>\n",
              "      <td>2017-01-01 00:22:00-05:00</td>\n",
              "      <td>Church St  / Wood St</td>\n",
              "      <td>NaN</td>\n",
              "      <td>Member</td>\n",
              "    </tr>\n",
              "    <tr>\n",
              "      <th>61</th>\n",
              "      <td>712444</td>\n",
              "      <td>NaN</td>\n",
              "      <td>1005</td>\n",
              "      <td>7177.0</td>\n",
              "      <td>2017-01-01 00:09:00-05:00</td>\n",
              "      <td>East Liberty St / Pirandello St</td>\n",
              "      <td>7202.0</td>\n",
              "      <td>2017-01-01 00:26:00-05:00</td>\n",
              "      <td>Queen St W / York St (City Hall)</td>\n",
              "      <td>NaN</td>\n",
              "      <td>Member</td>\n",
              "    </tr>\n",
              "    <tr>\n",
              "      <th>62</th>\n",
              "      <td>712445</td>\n",
              "      <td>NaN</td>\n",
              "      <td>645</td>\n",
              "      <td>7203.0</td>\n",
              "      <td>2017-01-01 00:14:00-05:00</td>\n",
              "      <td>Bathurst St / Queens Quay W</td>\n",
              "      <td>7010.0</td>\n",
              "      <td>2017-01-01 00:25:00-05:00</td>\n",
              "      <td>King St W / Spadina Ave</td>\n",
              "      <td>NaN</td>\n",
              "      <td>Member</td>\n",
              "    </tr>\n",
              "  </tbody>\n",
              "</table>\n",
              "</div>"
            ],
            "text/plain": [
              "    Trip Id  Subscription Id  ...  Bike Id  User Type\n",
              "58   712441              NaN  ...      NaN     Member\n",
              "59   712442              NaN  ...      NaN     Member\n",
              "60   712443              NaN  ...      NaN     Member\n",
              "61   712444              NaN  ...      NaN     Member\n",
              "62   712445              NaN  ...      NaN     Member\n",
              "\n",
              "[5 rows x 11 columns]"
            ]
          },
          "metadata": {
            "tags": []
          },
          "execution_count": 12
        }
      ]
    },
    {
      "cell_type": "markdown",
      "metadata": {
        "id": "xGwQsDf6Wz9T"
      },
      "source": [
        "## 4d. Clean up station data"
      ]
    },
    {
      "cell_type": "markdown",
      "metadata": {
        "id": "WDnYzwzWWz9U"
      },
      "source": [
        "We have noticed that some stations in the trip dataframe are missing station IDs. To further combine the trip data with station data, we need to resolve potential issues with duplicate or inconsistent station names. We will first create a new dataframe containing unique station ID and station name combinations."
      ]
    },
    {
      "cell_type": "code",
      "metadata": {
        "id": "yt2JlgkNWz9U",
        "colab": {
          "base_uri": "https://localhost:8080/",
          "height": 204
        },
        "outputId": "bb7cba05-892e-4164-f736-3ef40660fe71"
      },
      "source": [
        "# Create dataframe for start station Ids and start station names\n",
        "start_station = all_trips[['Start Station Id', 'Start Station Name']].rename(columns={'Start Station Id':'Station Id', 'Start Station Name':'Station Name'})\n",
        "\n",
        "# Create dataframe for end station Ids and end station names\n",
        "end_station = all_trips[['End Station Id', 'End Station Name']].rename(columns={'End Station Id':'Station Id', 'End Station Name':'Station Name'})\n",
        "\n",
        "# Concatenate the dataframes and drop missing values as well as duplicates\n",
        "all_stations = pd.concat([start_station, end_station]).dropna(how='all').drop_duplicates().reset_index(drop=True)\n",
        "\n",
        "# View DataFrame\n",
        "all_stations.head()"
      ],
      "execution_count": 13,
      "outputs": [
        {
          "output_type": "execute_result",
          "data": {
            "text/html": [
              "<div>\n",
              "<style scoped>\n",
              "    .dataframe tbody tr th:only-of-type {\n",
              "        vertical-align: middle;\n",
              "    }\n",
              "\n",
              "    .dataframe tbody tr th {\n",
              "        vertical-align: top;\n",
              "    }\n",
              "\n",
              "    .dataframe thead th {\n",
              "        text-align: right;\n",
              "    }\n",
              "</style>\n",
              "<table border=\"1\" class=\"dataframe\">\n",
              "  <thead>\n",
              "    <tr style=\"text-align: right;\">\n",
              "      <th></th>\n",
              "      <th>Station Id</th>\n",
              "      <th>Station Name</th>\n",
              "    </tr>\n",
              "  </thead>\n",
              "  <tbody>\n",
              "    <tr>\n",
              "      <th>0</th>\n",
              "      <td>7006.0</td>\n",
              "      <td>Bay St / College St (East Side)</td>\n",
              "    </tr>\n",
              "    <tr>\n",
              "      <th>1</th>\n",
              "      <td>7046.0</td>\n",
              "      <td>Niagara St / Richmond St W</td>\n",
              "    </tr>\n",
              "    <tr>\n",
              "      <th>2</th>\n",
              "      <td>7048.0</td>\n",
              "      <td>Front St / Yonge St (Hockey Hall of Fame)</td>\n",
              "    </tr>\n",
              "    <tr>\n",
              "      <th>3</th>\n",
              "      <td>7177.0</td>\n",
              "      <td>East Liberty St / Pirandello St</td>\n",
              "    </tr>\n",
              "    <tr>\n",
              "      <th>4</th>\n",
              "      <td>7203.0</td>\n",
              "      <td>Bathurst St / Queens Quay W</td>\n",
              "    </tr>\n",
              "  </tbody>\n",
              "</table>\n",
              "</div>"
            ],
            "text/plain": [
              "   Station Id                               Station Name\n",
              "0      7006.0            Bay St / College St (East Side)\n",
              "1      7046.0                 Niagara St / Richmond St W\n",
              "2      7048.0  Front St / Yonge St (Hockey Hall of Fame)\n",
              "3      7177.0            East Liberty St / Pirandello St\n",
              "4      7203.0                Bathurst St / Queens Quay W"
            ]
          },
          "metadata": {
            "tags": []
          },
          "execution_count": 13
        }
      ]
    },
    {
      "cell_type": "markdown",
      "metadata": {
        "id": "ttHXQue1Wz9W"
      },
      "source": [
        "Let's check if there is any mismatch between station names and station IDs."
      ]
    },
    {
      "cell_type": "code",
      "metadata": {
        "id": "TE8-9k_2Wz9W",
        "colab": {
          "base_uri": "https://localhost:8080/"
        },
        "outputId": "f130a8e5-ad0e-45c3-85ab-217f2fc6c487"
      },
      "source": [
        "all_stations.isna().sum()"
      ],
      "execution_count": 14,
      "outputs": [
        {
          "output_type": "execute_result",
          "data": {
            "text/plain": [
              "Station Id      271\n",
              "Station Name      2\n",
              "dtype: int64"
            ]
          },
          "metadata": {
            "tags": []
          },
          "execution_count": 14
        }
      ]
    },
    {
      "cell_type": "markdown",
      "metadata": {
        "id": "vx9isQ2_Wz9W"
      },
      "source": [
        "Looks like quite a few stations in the trip dataframe don't have corresponding station IDs. We will make a separate dataframe for these stations."
      ]
    },
    {
      "cell_type": "code",
      "metadata": {
        "id": "lw2rFGEtWz9X",
        "colab": {
          "base_uri": "https://localhost:8080/",
          "height": 204
        },
        "outputId": "5267a78b-0212-4c67-ee29-b3a9cfae9813"
      },
      "source": [
        "missing_Id = all_stations[all_stations['Station Id'].isnull()].reset_index(drop=True)\n",
        "missing_Id.head()"
      ],
      "execution_count": 15,
      "outputs": [
        {
          "output_type": "execute_result",
          "data": {
            "text/html": [
              "<div>\n",
              "<style scoped>\n",
              "    .dataframe tbody tr th:only-of-type {\n",
              "        vertical-align: middle;\n",
              "    }\n",
              "\n",
              "    .dataframe tbody tr th {\n",
              "        vertical-align: top;\n",
              "    }\n",
              "\n",
              "    .dataframe thead th {\n",
              "        text-align: right;\n",
              "    }\n",
              "</style>\n",
              "<table border=\"1\" class=\"dataframe\">\n",
              "  <thead>\n",
              "    <tr style=\"text-align: right;\">\n",
              "      <th></th>\n",
              "      <th>Station Id</th>\n",
              "      <th>Station Name</th>\n",
              "    </tr>\n",
              "  </thead>\n",
              "  <tbody>\n",
              "    <tr>\n",
              "      <th>0</th>\n",
              "      <td>NaN</td>\n",
              "      <td>Princess St / Adelaide St E</td>\n",
              "    </tr>\n",
              "    <tr>\n",
              "      <th>1</th>\n",
              "      <td>NaN</td>\n",
              "      <td>Fort York  Blvd / Capreol Crt</td>\n",
              "    </tr>\n",
              "    <tr>\n",
              "      <th>2</th>\n",
              "      <td>NaN</td>\n",
              "      <td>Elizabeth St / Edward St (Bus Terminal)</td>\n",
              "    </tr>\n",
              "    <tr>\n",
              "      <th>3</th>\n",
              "      <td>NaN</td>\n",
              "      <td>Bay St / St. Joseph St</td>\n",
              "    </tr>\n",
              "    <tr>\n",
              "      <th>4</th>\n",
              "      <td>NaN</td>\n",
              "      <td>Bay St / College St (East Side)</td>\n",
              "    </tr>\n",
              "  </tbody>\n",
              "</table>\n",
              "</div>"
            ],
            "text/plain": [
              "   Station Id                             Station Name\n",
              "0         NaN              Princess St / Adelaide St E\n",
              "1         NaN            Fort York  Blvd / Capreol Crt\n",
              "2         NaN  Elizabeth St / Edward St (Bus Terminal)\n",
              "3         NaN                   Bay St / St. Joseph St\n",
              "4         NaN          Bay St / College St (East Side)"
            ]
          },
          "metadata": {
            "tags": []
          },
          "execution_count": 15
        }
      ]
    },
    {
      "cell_type": "markdown",
      "metadata": {
        "id": "OFC_swTaWz9Y"
      },
      "source": [
        "Using the Fussywussy library, let's try to find the missing IDs by matching the station names with the API station data from Part 3."
      ]
    },
    {
      "cell_type": "code",
      "metadata": {
        "id": "G_nB_ug0Wz9Y",
        "colab": {
          "base_uri": "https://localhost:8080/"
        },
        "outputId": "89757b59-06e9-4291-f17d-98cdf4794417"
      },
      "source": [
        "# Download fussywussy\n",
        "import sys\n",
        "!{sys.executable} -m pip install fuzzywuzzy\n",
        "from fuzzywuzzy import fuzz"
      ],
      "execution_count": 16,
      "outputs": [
        {
          "output_type": "stream",
          "text": [
            "Collecting fuzzywuzzy\n",
            "  Downloading https://files.pythonhosted.org/packages/43/ff/74f23998ad2f93b945c0309f825be92e04e0348e062026998b5eefef4c33/fuzzywuzzy-0.18.0-py2.py3-none-any.whl\n",
            "Installing collected packages: fuzzywuzzy\n",
            "Successfully installed fuzzywuzzy-0.18.0\n"
          ],
          "name": "stdout"
        }
      ]
    },
    {
      "cell_type": "code",
      "metadata": {
        "id": "b0Busa8SWz9d",
        "colab": {
          "base_uri": "https://localhost:8080/",
          "height": 204
        },
        "outputId": "a8fd926c-9ac9-4457-bf83-6542de26e5cc"
      },
      "source": [
        "for Id, name in missing_Id.iterrows():\n",
        "    for station_Id, station_name in stations.iterrows():\n",
        "        ratio = fuzz.ratio(name['Station Name'], station_name['Station Name'])\n",
        "        # Fill in station Ids for station names that are similar enough to the API data\n",
        "        if ratio > 85:\n",
        "            missing_Id.at[Id, 'Station Id'] = station_name['Station Id']\n",
        "\n",
        "# Remove stations that could not be matched        \n",
        "missing_Id = missing_Id.dropna()\n",
        "\n",
        "# View DataFrame\n",
        "missing_Id.head()"
      ],
      "execution_count": 17,
      "outputs": [
        {
          "output_type": "execute_result",
          "data": {
            "text/html": [
              "<div>\n",
              "<style scoped>\n",
              "    .dataframe tbody tr th:only-of-type {\n",
              "        vertical-align: middle;\n",
              "    }\n",
              "\n",
              "    .dataframe tbody tr th {\n",
              "        vertical-align: top;\n",
              "    }\n",
              "\n",
              "    .dataframe thead th {\n",
              "        text-align: right;\n",
              "    }\n",
              "</style>\n",
              "<table border=\"1\" class=\"dataframe\">\n",
              "  <thead>\n",
              "    <tr style=\"text-align: right;\">\n",
              "      <th></th>\n",
              "      <th>Station Id</th>\n",
              "      <th>Station Name</th>\n",
              "    </tr>\n",
              "  </thead>\n",
              "  <tbody>\n",
              "    <tr>\n",
              "      <th>0</th>\n",
              "      <td>7060.0</td>\n",
              "      <td>Princess St / Adelaide St E</td>\n",
              "    </tr>\n",
              "    <tr>\n",
              "      <th>1</th>\n",
              "      <td>7000.0</td>\n",
              "      <td>Fort York  Blvd / Capreol Crt</td>\n",
              "    </tr>\n",
              "    <tr>\n",
              "      <th>2</th>\n",
              "      <td>7012.0</td>\n",
              "      <td>Elizabeth St / Edward St (Bus Terminal)</td>\n",
              "    </tr>\n",
              "    <tr>\n",
              "      <th>3</th>\n",
              "      <td>7026.0</td>\n",
              "      <td>Bay St / St. Joseph St</td>\n",
              "    </tr>\n",
              "    <tr>\n",
              "      <th>4</th>\n",
              "      <td>7006.0</td>\n",
              "      <td>Bay St / College St (East Side)</td>\n",
              "    </tr>\n",
              "  </tbody>\n",
              "</table>\n",
              "</div>"
            ],
            "text/plain": [
              "   Station Id                             Station Name\n",
              "0      7060.0              Princess St / Adelaide St E\n",
              "1      7000.0            Fort York  Blvd / Capreol Crt\n",
              "2      7012.0  Elizabeth St / Edward St (Bus Terminal)\n",
              "3      7026.0                   Bay St / St. Joseph St\n",
              "4      7006.0          Bay St / College St (East Side)"
            ]
          },
          "metadata": {
            "tags": []
          },
          "execution_count": 17
        }
      ]
    },
    {
      "cell_type": "markdown",
      "metadata": {
        "id": "en5MYtH5Wz9e"
      },
      "source": [
        "Now, we will add the new-found station IDs to `'all_stations'`, and merge this dataframe with the station data."
      ]
    },
    {
      "cell_type": "code",
      "metadata": {
        "id": "JwWBGgEBWz9e",
        "colab": {
          "base_uri": "https://localhost:8080/",
          "height": 204
        },
        "outputId": "1485c3bb-7567-4cd7-a720-1af320214067"
      },
      "source": [
        "# Create a dataframe for datapoints that had existing station Ids\n",
        "has_Id = all_stations[all_stations['Station Id'].notnull()]\n",
        "\n",
        "# Combine this dataframe with the one above (stations with newly added Ids) and merge with API data\n",
        "all_stations = pd.concat([has_Id, missing_Id]).merge(stations.drop(columns=['Station Name']), how='inner', on='Station Id').drop_duplicates()\n",
        "\n",
        "# View DataFrame\n",
        "all_stations.head()"
      ],
      "execution_count": 18,
      "outputs": [
        {
          "output_type": "execute_result",
          "data": {
            "text/html": [
              "<div>\n",
              "<style scoped>\n",
              "    .dataframe tbody tr th:only-of-type {\n",
              "        vertical-align: middle;\n",
              "    }\n",
              "\n",
              "    .dataframe tbody tr th {\n",
              "        vertical-align: top;\n",
              "    }\n",
              "\n",
              "    .dataframe thead th {\n",
              "        text-align: right;\n",
              "    }\n",
              "</style>\n",
              "<table border=\"1\" class=\"dataframe\">\n",
              "  <thead>\n",
              "    <tr style=\"text-align: right;\">\n",
              "      <th></th>\n",
              "      <th>Station Id</th>\n",
              "      <th>Station Name</th>\n",
              "      <th>lat</th>\n",
              "      <th>lon</th>\n",
              "      <th>capacity</th>\n",
              "    </tr>\n",
              "  </thead>\n",
              "  <tbody>\n",
              "    <tr>\n",
              "      <th>0</th>\n",
              "      <td>7006.0</td>\n",
              "      <td>Bay St / College St (East Side)</td>\n",
              "      <td>43.660439</td>\n",
              "      <td>-79.385525</td>\n",
              "      <td>11</td>\n",
              "    </tr>\n",
              "    <tr>\n",
              "      <th>2</th>\n",
              "      <td>7046.0</td>\n",
              "      <td>Niagara St / Richmond St W</td>\n",
              "      <td>43.645340</td>\n",
              "      <td>-79.409597</td>\n",
              "      <td>26</td>\n",
              "    </tr>\n",
              "    <tr>\n",
              "      <th>4</th>\n",
              "      <td>7048.0</td>\n",
              "      <td>Front St / Yonge St (Hockey Hall of Fame)</td>\n",
              "      <td>43.646144</td>\n",
              "      <td>-79.377962</td>\n",
              "      <td>47</td>\n",
              "    </tr>\n",
              "    <tr>\n",
              "      <th>5</th>\n",
              "      <td>7048.0</td>\n",
              "      <td>Front St W / Yonge St (Hockey Hall of Fame)</td>\n",
              "      <td>43.646144</td>\n",
              "      <td>-79.377962</td>\n",
              "      <td>47</td>\n",
              "    </tr>\n",
              "    <tr>\n",
              "      <th>7</th>\n",
              "      <td>7177.0</td>\n",
              "      <td>East Liberty St / Pirandello St</td>\n",
              "      <td>43.638611</td>\n",
              "      <td>-79.414722</td>\n",
              "      <td>19</td>\n",
              "    </tr>\n",
              "  </tbody>\n",
              "</table>\n",
              "</div>"
            ],
            "text/plain": [
              "   Station Id                                 Station Name  ...        lon  capacity\n",
              "0      7006.0              Bay St / College St (East Side)  ... -79.385525        11\n",
              "2      7046.0                   Niagara St / Richmond St W  ... -79.409597        26\n",
              "4      7048.0    Front St / Yonge St (Hockey Hall of Fame)  ... -79.377962        47\n",
              "5      7048.0  Front St W / Yonge St (Hockey Hall of Fame)  ... -79.377962        47\n",
              "7      7177.0              East Liberty St / Pirandello St  ... -79.414722        19\n",
              "\n",
              "[5 rows x 5 columns]"
            ]
          },
          "metadata": {
            "tags": []
          },
          "execution_count": 18
        }
      ]
    },
    {
      "cell_type": "markdown",
      "metadata": {
        "id": "V6MX1SqSWz9e"
      },
      "source": [
        "Then, we will merge the cleaned station data with the trip data for both start and end stations. Note that duplicate columns are dropped."
      ]
    },
    {
      "cell_type": "code",
      "metadata": {
        "id": "MmjZ7Wf7Wz9f",
        "colab": {
          "base_uri": "https://localhost:8080/",
          "height": 408
        },
        "outputId": "c6a5985b-9885-4b7c-e566-a56ffa2cd08d"
      },
      "source": [
        "all_trips = all_trips.merge(all_stations, how='inner', left_on='Start Station Name', right_on='Station Name')\\\n",
        "                    .rename(columns={\"lat\": \"Start lat\", \"lon\": \"Start lon\", \"capacity\": \"Start capacity\"}).drop(columns=['Station Name', 'Station Id'])\n",
        "\n",
        "all_trips = all_trips.merge(all_stations, how='inner', left_on='End Station Name', right_on='Station Name')\\\n",
        "                     .rename(columns={\"lat\": \"End lat\", \"lon\": \"End lon\", \"capacity\": \"End capacity\"}).drop(columns=['Station Name', 'Station Id'])\n",
        "\n",
        "all_trips = all_trips.sort_values(by=['Trip Id']).reset_index(drop=True).drop_duplicates(subset=['Trip Id'])\n",
        "\n",
        "# View DataFrame\n",
        "all_trips.head()"
      ],
      "execution_count": 19,
      "outputs": [
        {
          "output_type": "execute_result",
          "data": {
            "text/html": [
              "<div>\n",
              "<style scoped>\n",
              "    .dataframe tbody tr th:only-of-type {\n",
              "        vertical-align: middle;\n",
              "    }\n",
              "\n",
              "    .dataframe tbody tr th {\n",
              "        vertical-align: top;\n",
              "    }\n",
              "\n",
              "    .dataframe thead th {\n",
              "        text-align: right;\n",
              "    }\n",
              "</style>\n",
              "<table border=\"1\" class=\"dataframe\">\n",
              "  <thead>\n",
              "    <tr style=\"text-align: right;\">\n",
              "      <th></th>\n",
              "      <th>Trip Id</th>\n",
              "      <th>Subscription Id</th>\n",
              "      <th>Trip  Duration</th>\n",
              "      <th>Start Station Id</th>\n",
              "      <th>Start Time</th>\n",
              "      <th>Start Station Name</th>\n",
              "      <th>End Station Id</th>\n",
              "      <th>End Time</th>\n",
              "      <th>End Station Name</th>\n",
              "      <th>Bike Id</th>\n",
              "      <th>User Type</th>\n",
              "      <th>Start lat</th>\n",
              "      <th>Start lon</th>\n",
              "      <th>Start capacity</th>\n",
              "      <th>End lat</th>\n",
              "      <th>End lon</th>\n",
              "      <th>End capacity</th>\n",
              "    </tr>\n",
              "  </thead>\n",
              "  <tbody>\n",
              "    <tr>\n",
              "      <th>0</th>\n",
              "      <td>712441</td>\n",
              "      <td>NaN</td>\n",
              "      <td>274</td>\n",
              "      <td>7006.0</td>\n",
              "      <td>2017-01-01 00:03:00-05:00</td>\n",
              "      <td>Bay St / College St (East Side)</td>\n",
              "      <td>7021.0</td>\n",
              "      <td>2017-01-01 00:08:00-05:00</td>\n",
              "      <td>Bay St / Albert St</td>\n",
              "      <td>NaN</td>\n",
              "      <td>Member</td>\n",
              "      <td>43.660439</td>\n",
              "      <td>-79.385525</td>\n",
              "      <td>11</td>\n",
              "      <td>43.653264</td>\n",
              "      <td>-79.382458</td>\n",
              "      <td>35</td>\n",
              "    </tr>\n",
              "    <tr>\n",
              "      <th>1</th>\n",
              "      <td>712442</td>\n",
              "      <td>NaN</td>\n",
              "      <td>538</td>\n",
              "      <td>7046.0</td>\n",
              "      <td>2017-01-01 00:03:00-05:00</td>\n",
              "      <td>Niagara St / Richmond St W</td>\n",
              "      <td>7147.0</td>\n",
              "      <td>2017-01-01 00:12:00-05:00</td>\n",
              "      <td>King St W / Fraser Ave</td>\n",
              "      <td>NaN</td>\n",
              "      <td>Member</td>\n",
              "      <td>43.645340</td>\n",
              "      <td>-79.409597</td>\n",
              "      <td>26</td>\n",
              "      <td>43.639444</td>\n",
              "      <td>-79.425278</td>\n",
              "      <td>15</td>\n",
              "    </tr>\n",
              "    <tr>\n",
              "      <th>2</th>\n",
              "      <td>712443</td>\n",
              "      <td>NaN</td>\n",
              "      <td>992</td>\n",
              "      <td>7048.0</td>\n",
              "      <td>2017-01-01 00:05:00-05:00</td>\n",
              "      <td>Front St / Yonge St (Hockey Hall of Fame)</td>\n",
              "      <td>7089.0</td>\n",
              "      <td>2017-01-01 00:22:00-05:00</td>\n",
              "      <td>Church St  / Wood St</td>\n",
              "      <td>NaN</td>\n",
              "      <td>Member</td>\n",
              "      <td>43.646144</td>\n",
              "      <td>-79.377962</td>\n",
              "      <td>47</td>\n",
              "      <td>43.662712</td>\n",
              "      <td>-79.379903</td>\n",
              "      <td>19</td>\n",
              "    </tr>\n",
              "    <tr>\n",
              "      <th>3</th>\n",
              "      <td>712444</td>\n",
              "      <td>NaN</td>\n",
              "      <td>1005</td>\n",
              "      <td>7177.0</td>\n",
              "      <td>2017-01-01 00:09:00-05:00</td>\n",
              "      <td>East Liberty St / Pirandello St</td>\n",
              "      <td>7202.0</td>\n",
              "      <td>2017-01-01 00:26:00-05:00</td>\n",
              "      <td>Queen St W / York St (City Hall)</td>\n",
              "      <td>NaN</td>\n",
              "      <td>Member</td>\n",
              "      <td>43.638611</td>\n",
              "      <td>-79.414722</td>\n",
              "      <td>19</td>\n",
              "      <td>43.651667</td>\n",
              "      <td>-79.384167</td>\n",
              "      <td>31</td>\n",
              "    </tr>\n",
              "    <tr>\n",
              "      <th>4</th>\n",
              "      <td>712445</td>\n",
              "      <td>NaN</td>\n",
              "      <td>645</td>\n",
              "      <td>7203.0</td>\n",
              "      <td>2017-01-01 00:14:00-05:00</td>\n",
              "      <td>Bathurst St / Queens Quay W</td>\n",
              "      <td>7010.0</td>\n",
              "      <td>2017-01-01 00:25:00-05:00</td>\n",
              "      <td>King St W / Spadina Ave</td>\n",
              "      <td>NaN</td>\n",
              "      <td>Member</td>\n",
              "      <td>43.635492</td>\n",
              "      <td>-79.398253</td>\n",
              "      <td>35</td>\n",
              "      <td>43.645323</td>\n",
              "      <td>-79.395003</td>\n",
              "      <td>19</td>\n",
              "    </tr>\n",
              "  </tbody>\n",
              "</table>\n",
              "</div>"
            ],
            "text/plain": [
              "   Trip Id  Subscription Id  Trip  Duration  ...    End lat    End lon End capacity\n",
              "0   712441              NaN             274  ...  43.653264 -79.382458           35\n",
              "1   712442              NaN             538  ...  43.639444 -79.425278           15\n",
              "2   712443              NaN             992  ...  43.662712 -79.379903           19\n",
              "3   712444              NaN            1005  ...  43.651667 -79.384167           31\n",
              "4   712445              NaN             645  ...  43.645323 -79.395003           19\n",
              "\n",
              "[5 rows x 17 columns]"
            ]
          },
          "metadata": {
            "tags": []
          },
          "execution_count": 19
        }
      ]
    },
    {
      "cell_type": "markdown",
      "metadata": {
        "id": "hgNnenpJQcnK"
      },
      "source": [
        "## 4e. Remove short trips and outliers"
      ]
    },
    {
      "cell_type": "markdown",
      "metadata": {
        "id": "vOWX56KCQjEB"
      },
      "source": [
        "The next step is to remove trips with unreasonable durations, which are indications of false starts or incomplete trips. We will remove trips that are shorter than 60 seconds or are +/- 1.5 * IQR (interquartile range) away from the median duration."
      ]
    },
    {
      "cell_type": "code",
      "metadata": {
        "colab": {
          "base_uri": "https://localhost:8080/",
          "height": 408
        },
        "id": "iN_06P_PaAei",
        "outputId": "84995098-f0e9-4792-cf95-de9b33463daf"
      },
      "source": [
        "# Remove short trips\r\n",
        "all_trips = all_trips[all_trips['Trip  Duration'] >= 60]\r\n",
        "\r\n",
        "# Calculate IQR\r\n",
        "Q1 = all_trips['Trip  Duration'].quantile(0.25)\r\n",
        "Q3 = all_trips['Trip  Duration'].quantile(0.75)\r\n",
        "IQR = Q3-Q1\r\n",
        "whisk_low = Q1-1.5*IQR\r\n",
        "whisk_high = Q3+1.5*IQR\r\n",
        "\r\n",
        "# Remove outliers\r\n",
        "all_trips = all_trips.loc[(all_trips['Trip  Duration'] >= whisk_low) & (all_trips['Trip  Duration'] <= whisk_high)]\r\n",
        "\r\n",
        "# View DataFrame\r\n",
        "all_trips.head()"
      ],
      "execution_count": 20,
      "outputs": [
        {
          "output_type": "execute_result",
          "data": {
            "text/html": [
              "<div>\n",
              "<style scoped>\n",
              "    .dataframe tbody tr th:only-of-type {\n",
              "        vertical-align: middle;\n",
              "    }\n",
              "\n",
              "    .dataframe tbody tr th {\n",
              "        vertical-align: top;\n",
              "    }\n",
              "\n",
              "    .dataframe thead th {\n",
              "        text-align: right;\n",
              "    }\n",
              "</style>\n",
              "<table border=\"1\" class=\"dataframe\">\n",
              "  <thead>\n",
              "    <tr style=\"text-align: right;\">\n",
              "      <th></th>\n",
              "      <th>Trip Id</th>\n",
              "      <th>Subscription Id</th>\n",
              "      <th>Trip  Duration</th>\n",
              "      <th>Start Station Id</th>\n",
              "      <th>Start Time</th>\n",
              "      <th>Start Station Name</th>\n",
              "      <th>End Station Id</th>\n",
              "      <th>End Time</th>\n",
              "      <th>End Station Name</th>\n",
              "      <th>Bike Id</th>\n",
              "      <th>User Type</th>\n",
              "      <th>Start lat</th>\n",
              "      <th>Start lon</th>\n",
              "      <th>Start capacity</th>\n",
              "      <th>End lat</th>\n",
              "      <th>End lon</th>\n",
              "      <th>End capacity</th>\n",
              "    </tr>\n",
              "  </thead>\n",
              "  <tbody>\n",
              "    <tr>\n",
              "      <th>0</th>\n",
              "      <td>712441</td>\n",
              "      <td>NaN</td>\n",
              "      <td>274</td>\n",
              "      <td>7006.0</td>\n",
              "      <td>2017-01-01 00:03:00-05:00</td>\n",
              "      <td>Bay St / College St (East Side)</td>\n",
              "      <td>7021.0</td>\n",
              "      <td>2017-01-01 00:08:00-05:00</td>\n",
              "      <td>Bay St / Albert St</td>\n",
              "      <td>NaN</td>\n",
              "      <td>Member</td>\n",
              "      <td>43.660439</td>\n",
              "      <td>-79.385525</td>\n",
              "      <td>11</td>\n",
              "      <td>43.653264</td>\n",
              "      <td>-79.382458</td>\n",
              "      <td>35</td>\n",
              "    </tr>\n",
              "    <tr>\n",
              "      <th>1</th>\n",
              "      <td>712442</td>\n",
              "      <td>NaN</td>\n",
              "      <td>538</td>\n",
              "      <td>7046.0</td>\n",
              "      <td>2017-01-01 00:03:00-05:00</td>\n",
              "      <td>Niagara St / Richmond St W</td>\n",
              "      <td>7147.0</td>\n",
              "      <td>2017-01-01 00:12:00-05:00</td>\n",
              "      <td>King St W / Fraser Ave</td>\n",
              "      <td>NaN</td>\n",
              "      <td>Member</td>\n",
              "      <td>43.645340</td>\n",
              "      <td>-79.409597</td>\n",
              "      <td>26</td>\n",
              "      <td>43.639444</td>\n",
              "      <td>-79.425278</td>\n",
              "      <td>15</td>\n",
              "    </tr>\n",
              "    <tr>\n",
              "      <th>2</th>\n",
              "      <td>712443</td>\n",
              "      <td>NaN</td>\n",
              "      <td>992</td>\n",
              "      <td>7048.0</td>\n",
              "      <td>2017-01-01 00:05:00-05:00</td>\n",
              "      <td>Front St / Yonge St (Hockey Hall of Fame)</td>\n",
              "      <td>7089.0</td>\n",
              "      <td>2017-01-01 00:22:00-05:00</td>\n",
              "      <td>Church St  / Wood St</td>\n",
              "      <td>NaN</td>\n",
              "      <td>Member</td>\n",
              "      <td>43.646144</td>\n",
              "      <td>-79.377962</td>\n",
              "      <td>47</td>\n",
              "      <td>43.662712</td>\n",
              "      <td>-79.379903</td>\n",
              "      <td>19</td>\n",
              "    </tr>\n",
              "    <tr>\n",
              "      <th>3</th>\n",
              "      <td>712444</td>\n",
              "      <td>NaN</td>\n",
              "      <td>1005</td>\n",
              "      <td>7177.0</td>\n",
              "      <td>2017-01-01 00:09:00-05:00</td>\n",
              "      <td>East Liberty St / Pirandello St</td>\n",
              "      <td>7202.0</td>\n",
              "      <td>2017-01-01 00:26:00-05:00</td>\n",
              "      <td>Queen St W / York St (City Hall)</td>\n",
              "      <td>NaN</td>\n",
              "      <td>Member</td>\n",
              "      <td>43.638611</td>\n",
              "      <td>-79.414722</td>\n",
              "      <td>19</td>\n",
              "      <td>43.651667</td>\n",
              "      <td>-79.384167</td>\n",
              "      <td>31</td>\n",
              "    </tr>\n",
              "    <tr>\n",
              "      <th>4</th>\n",
              "      <td>712445</td>\n",
              "      <td>NaN</td>\n",
              "      <td>645</td>\n",
              "      <td>7203.0</td>\n",
              "      <td>2017-01-01 00:14:00-05:00</td>\n",
              "      <td>Bathurst St / Queens Quay W</td>\n",
              "      <td>7010.0</td>\n",
              "      <td>2017-01-01 00:25:00-05:00</td>\n",
              "      <td>King St W / Spadina Ave</td>\n",
              "      <td>NaN</td>\n",
              "      <td>Member</td>\n",
              "      <td>43.635492</td>\n",
              "      <td>-79.398253</td>\n",
              "      <td>35</td>\n",
              "      <td>43.645323</td>\n",
              "      <td>-79.395003</td>\n",
              "      <td>19</td>\n",
              "    </tr>\n",
              "  </tbody>\n",
              "</table>\n",
              "</div>"
            ],
            "text/plain": [
              "   Trip Id  Subscription Id  Trip  Duration  ...    End lat    End lon End capacity\n",
              "0   712441              NaN             274  ...  43.653264 -79.382458           35\n",
              "1   712442              NaN             538  ...  43.639444 -79.425278           15\n",
              "2   712443              NaN             992  ...  43.662712 -79.379903           19\n",
              "3   712444              NaN            1005  ...  43.651667 -79.384167           31\n",
              "4   712445              NaN             645  ...  43.645323 -79.395003           19\n",
              "\n",
              "[5 rows x 17 columns]"
            ]
          },
          "metadata": {
            "tags": []
          },
          "execution_count": 20
        }
      ]
    }
  ]
}